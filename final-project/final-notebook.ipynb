{
 "cells": [
  {
   "cell_type": "code",
   "execution_count": 1,
   "metadata": {},
   "outputs": [
    {
     "name": "stderr",
     "output_type": "stream",
     "text": [
      "/Users/keyonvafa/anaconda3/lib/python3.6/importlib/_bootstrap.py:219: RuntimeWarning: compiletime version 3.5 of module 'tensorflow.python.framework.fast_tensor_util' does not match runtime version 3.6\n",
      "  return f(*args, **kwds)\n"
     ]
    }
   ],
   "source": [
    "from final_utils import make_savedir, train_and_test, load_from_savedir, load_nips_data"
   ]
  },
  {
   "cell_type": "code",
   "execution_count": 2,
   "metadata": {
    "collapsed": true
   },
   "outputs": [],
   "source": [
    "import numpy as np\n",
    "import matplotlib.pyplot as plt\n",
    "from observations import nips\n",
    "import os\n",
    "%matplotlib inline"
   ]
  },
  {
   "cell_type": "markdown",
   "metadata": {},
   "source": [
    "# Introduction"
   ]
  },
  {
   "cell_type": "markdown",
   "metadata": {},
   "source": [
    "In this notebook, we'll go through various steps of Box's Loop for Deep Exponential Familes (DEFs) (Ranganath et al., 2015), applied to abstracts from the machine learning conference NIPS. We'll extend the model to include residual and skip connections between layers, which are inspired by the success of deep residual networks in deep learning (He et al., 2016)."
   ]
  },
  {
   "cell_type": "markdown",
   "metadata": {},
   "source": [
    "## Data"
   ]
  },
  {
   "cell_type": "markdown",
   "metadata": {},
   "source": [
    "We begin by loading the dataset: abstracts from the machine learning conference NIPS. We only include words that are in at least two documents and have appeared in at least ten different abstracts. The final corpus has 11,463 documents and 11,431 word tokens."
   ]
  },
  {
   "cell_type": "code",
   "execution_count": 3,
   "metadata": {
    "collapsed": true
   },
   "outputs": [],
   "source": [
    "x_full, words = load_nips_data()"
   ]
  },
  {
   "cell_type": "markdown",
   "metadata": {},
   "source": [
    "# Deep Exponential Families"
   ]
  },
  {
   "cell_type": "markdown",
   "metadata": {},
   "source": [
    "In this notebook, we'll focus on Deep Exponential Families, and in particular, the sparse gamma DEF. We focus on this DEF for one key reason: the latent variables are continuous, so it's possible to analyze in a probabilistic programming approach. \n",
    "\n",
    "\n",
    "The model is as follows. For each data point $x_n$ (which is itself a vector designating the word count of each document), we have $L$ layers of hidden variables, $\\{\\boldsymbol z_{n,1}, \\dots, \\boldsymbol z_{n,L}\\}$ (each of these is a vector). We also have $L - 1$ layers of weights $\\{\\boldsymbol W_1, \\dots, \\boldsymbol W_{L-1}\\}$, each of which is a matrix of independent variables with sparse gamma priors, meaning each element $w \\sim \\text{Gamma}(\\alpha, \\beta)$ with $\\alpha < 1$. The top most layer of latent variables $L$ is a vector where each element has a prior $z_{L,k} \\sim \\text{Gamma}(\\alpha_L, \\beta_L)$.\n",
    "\n",
    "Each set of layers and weights are connected via \n",
    "\n",
    "$$p(z_{n, l,k} | \\boldsymbol z_{n, l+1}, \\boldsymbol w_{l,k}) = \\text{Gamma}\\left(\\alpha_l, \\frac{\\alpha_l}{\\boldsymbol z_{n, l+1}^T \\boldsymbol w_{l,k}}\\right).$$\n",
    "\n",
    "where $\\alpha_l$ is a shape constant for layer l. Finally, the count of term $i$ in document $n$ (the data layer) is given by \n",
    "\n",
    "$$p(x_{n,i} | \\boldsymbol z_{n, 1}, \\boldsymbol W_0) = \\text{Pois}(\\boldsymbol z_{n,1}^T \\boldsymbol w_{0, i}).$$"
   ]
  },
  {
   "cell_type": "markdown",
   "metadata": {},
   "source": [
    "## Model"
   ]
  },
  {
   "cell_type": "markdown",
   "metadata": {},
   "source": [
    "For all our experiments, we use $\\alpha = 0.1, \\beta = 0.3,$ and $\\alpha_l = 0.1$ for all $l$, follwing Ranganath et al. (2014). We begin with a three-layer model, where $\\boldsymbol z_{n, 1}$ is 100-dimensional, $\\boldsymbol z_{n, 2}$ is 50-dimensoinal, and $\\boldsymbol z_{n, 3}$ is 10-dimensional. "
   ]
  },
  {
   "cell_type": "code",
   "execution_count": 4,
   "metadata": {
    "collapsed": true
   },
   "outputs": [],
   "source": [
    "K = [100, 50, 10]"
   ]
  },
  {
   "cell_type": "markdown",
   "metadata": {},
   "source": [
    "## Inference: MAP or Full Bayes?"
   ]
  },
  {
   "cell_type": "markdown",
   "metadata": {},
   "source": [
    "We perform inference with variational inference, for now using a lognormal variational approximation (for a discussion of lognormal vs gamma approximations, see the next section). Even within variational inference, two approaches are possible: using MAP-estimation to estimate the shared weights and a variational approach for the document parameters (Variational EM), or using a variational approach for both sets of parameters. "
   ]
  },
  {
   "cell_type": "markdown",
   "metadata": {},
   "source": [
    "We start with the map estimation approach (ignore the skip variable for now)."
   ]
  },
  {
   "cell_type": "code",
   "execution_count": 5,
   "metadata": {
    "collapsed": true
   },
   "outputs": [],
   "source": [
    "skip = False\n",
    "q = 'lognormal'\n",
    "map_estimate = True\n",
    "lr = 0.01"
   ]
  },
  {
   "cell_type": "markdown",
   "metadata": {},
   "source": [
    "Each model takes a couple of hours to train, even on GPU, so we're pre-loading data. If you want to retrain, set the \"rerun\" parameter equal to True."
   ]
  },
  {
   "cell_type": "code",
   "execution_count": 6,
   "metadata": {
    "collapsed": true
   },
   "outputs": [],
   "source": [
    "rerun = False"
   ]
  },
  {
   "cell_type": "code",
   "execution_count": 7,
   "metadata": {
    "collapsed": true
   },
   "outputs": [],
   "source": [
    "if rerun:\n",
    "    ln_map_100_50_10 = make_savedir(\n",
    "        K, skip=skip, q=q, map_estimate=map_estimate, lr=lr\n",
    "    )\n",
    "    perps_map, _, _, _ = train_and_test(\n",
    "        K, ln_map_100_50_10, skip, q=q, lr=lr,\n",
    "        n_iter_per_epoch=25000, map_estimate=map_estimate,\n",
    "        n_test_epoch=50\n",
    "    )\n",
    "else:\n",
    "    ln_map_100_50_10 = 'info/20171128_230116_nips_' + \\\n",
    "                       '100_50_10_lognormal_lr_0.01_map'\n",
    "    perps_map, _, _, _ = load_from_savedir(ln_map_100_50_10, K)"
   ]
  },
  {
   "cell_type": "markdown",
   "metadata": {},
   "source": [
    "Now try being fully Bayesian."
   ]
  },
  {
   "cell_type": "code",
   "execution_count": 8,
   "metadata": {
    "collapsed": true
   },
   "outputs": [],
   "source": [
    "map_estimate = False"
   ]
  },
  {
   "cell_type": "code",
   "execution_count": 9,
   "metadata": {
    "collapsed": true
   },
   "outputs": [],
   "source": [
    "if rerun:\n",
    "    ln_rand_100_50_10 = make_savedir(\n",
    "        K, skip=skip, q=q, map_estimate=map_estimate, lr=lr\n",
    "    )\n",
    "    perps_rand, _, _, ws_rand = train_and_test(\n",
    "        K, ln_rand_100_50_10, skip, q=q, lr=lr,\n",
    "        n_iter_per_epoch=25000, map_estimate=map_estimate,\n",
    "        n_test_epoch=50\n",
    "    )\n",
    "else:\n",
    "    ln_rand_100_50_10 = 'info/20171129_031053_nips_' + \\\n",
    "                        '100_50_10_lognormal_lr_0.01'\n",
    "    perps_rand, _, _, ws_rand = load_from_savedir(ln_rand_100_50_10, K)"
   ]
  },
  {
   "cell_type": "markdown",
   "metadata": {},
   "source": [
    "## Criticism"
   ]
  },
  {
   "cell_type": "markdown",
   "metadata": {},
   "source": [
    "To evaluate the model, we use text perplexity, a common way to evaluate topic models (Wallach et al., 2009). More specifically, we first set aside 1,000 documents and train on the remaining 10,463 documents. Within the 1,000 test documents, we keep 20% of each document and use the remaining 80% for testing. We fix the variational means of the shared weight parameters, and learn the per-document parameters on the 20% that we have of each held-out document. As we learn the per-document $\\boldsymbol z$'s, we evaluate perplexity on the remaining 80% of each held-out document, given by\n",
    "\n",
    "$$ \\exp\\left(-\\frac{\\sum_{d \\in \\text{docs}}\\sum_{w \\in d} \\log p(w | \\text{number of held out terms in } d)}{N_{\\text{held out words}}}\\right).$$\n",
    "\n",
    "Below, after training on the training set for 25,000 iterations, we evaluate the held-out perplexity at every epoch. "
   ]
  },
  {
   "cell_type": "code",
   "execution_count": 10,
   "metadata": {},
   "outputs": [
    {
     "data": {
      "text/plain": [
       "<matplotlib.legend.Legend at 0x1a240255f8>"
      ]
     },
     "execution_count": 10,
     "metadata": {},
     "output_type": "execute_result"
    },
    {
     "data": {
      "image/png": "[encoded data removed]",
      "text/plain": [
       "<matplotlib.figure.Figure at 0x1a24018a90>"
      ]
     },
     "metadata": {},
     "output_type": "display_data"
    }
   ],
   "source": [
    "plt.plot(range(len(perps_map)), perps_map, label=\"Variational EM\")\n",
    "plt.plot(range(len(perps_rand)), perps_rand, label=\"Fully Bayesian\")\n",
    "plt.xlabel(\"Test Epoch\")\n",
    "plt.ylabel(\"Test Perplexity\")\n",
    "plt.legend()"
   ]
  },
  {
   "cell_type": "markdown",
   "metadata": {},
   "source": [
    "As one may expect, our perplexities are initially better when the $\\boldsymbol W$'s are point estimates, but eventually the fully Bayesian approach is advantageous. That is, even though the Bayesian approach involves more computation, it produces better results since it's better able to take advantage of uncertainty.\n",
    "\n",
    "Below, we analyze some of the learned topics."
   ]
  },
  {
   "cell_type": "code",
   "execution_count": 11,
   "metadata": {},
   "outputs": [
    {
     "name": "stdout",
     "output_type": "stream",
     "text": [
      "Topic 0: graph graphs edge edges nodes random vertices\n",
      "Topic 30: level hierarchical hierarchy levels resolution high scale\n",
      "Topic 60: test risk tests statistic confidence bootstrap testing\n",
      "Topic 90: query ranking queries search rank retrieval hashing\n"
     ]
    }
   ],
   "source": [
    "word_groups = {}\n",
    "for k in range(100):\n",
    "    top_words_idx = ws_rand[0][k, :].argsort()[-7:][::-1]\n",
    "    top_words = \" \".join([words[i] for i in top_words_idx])\n",
    "    if k % 30 == 0:\n",
    "        print(\"Topic {}: {}\".format(k, top_words))\n",
    "    word_groups[k] = top_words"
   ]
  },
  {
   "cell_type": "markdown",
   "metadata": {},
   "source": [
    "An advantage of DEFs is the recovery of super-topics. Below, we look at some handpicked super-topics that correspond to Bayesian inference, reinforcement learning, and Bayesian topic models, respectively."
   ]
  },
  {
   "cell_type": "code",
   "execution_count": 12,
   "metadata": {},
   "outputs": [
    {
     "name": "stdout",
     "output_type": "stream",
     "text": [
      "Super Topic 10: \n",
      "network networks training units neural hidden weights\n",
      "bayesian posterior prior gaussian inference variational distribution\n",
      "energy field mean free temperature theory equations\n",
      "\n",
      "Super Topic 21: \n",
      "policy state value function reinforcement optimal action\n",
      "theorem bound let bounds probability proof lemma\n",
      "regret game algorithm strategy games player bandit\n",
      "\n",
      "Super Topic 46: \n",
      "topic topics document lda dirichlet documents latent\n",
      "bayesian posterior prior gaussian inference variational distribution\n",
      "model models parameters data likelihood latent log\n",
      "\n"
     ]
    }
   ],
   "source": [
    "good_super_topics = [10, 21, 46]\n",
    "for i in good_super_topics:\n",
    "    top_groups_idx = ws_rand[1][i, :].argsort()[-3:][::-1]\n",
    "    top_groups = 'Super Topic '+ str(i) + ': ' + '\\n' + \\\n",
    "        '\\n'.join([word_groups[i] for i in top_groups_idx])\n",
    "    print(top_groups + '\\n')"
   ]
  },
  {
   "cell_type": "markdown",
   "metadata": {
    "collapsed": true
   },
   "source": [
    "# Lognormal vs. Gamma Variational Approximation"
   ]
  },
  {
   "cell_type": "markdown",
   "metadata": {},
   "source": [
    "That model worked well, but why did we decide on a lognormal variational approximation? Below we explore another possibility."
   ]
  },
  {
   "cell_type": "markdown",
   "metadata": {},
   "source": [
    "## Model"
   ]
  },
  {
   "cell_type": "markdown",
   "metadata": {},
   "source": [
    "For sake of efficiency, we use a smaller model for this comparison: 2 layers with 50 dimensions and 25 dimensions."
   ]
  },
  {
   "cell_type": "code",
   "execution_count": 13,
   "metadata": {
    "collapsed": true
   },
   "outputs": [],
   "source": [
    "K = [50, 25]"
   ]
  },
  {
   "cell_type": "markdown",
   "metadata": {},
   "source": [
    "## Inference"
   ]
  },
  {
   "cell_type": "markdown",
   "metadata": {},
   "source": [
    "We begin with a Gamma variational approximation. The Gamma approximation has the advantage that it matches the data distribution, so it should be able to pick up the desired spike-and-slab shape in the posterior distribution. However, we do inference with Blackbox Variational Inference (BBVI) (Ranganath et al., 2014) , which can have very high variance for the gradients, especially since Edward doesn't implement control variates."
   ]
  },
  {
   "cell_type": "code",
   "execution_count": 14,
   "metadata": {
    "collapsed": true
   },
   "outputs": [],
   "source": [
    "skip = False\n",
    "map_estimate = False\n",
    "q = 'gamma'\n",
    "lr = 0.1"
   ]
  },
  {
   "cell_type": "code",
   "execution_count": 15,
   "metadata": {},
   "outputs": [],
   "source": [
    "if rerun:\n",
    "    gamma_50_25 = make_savedir(\n",
    "        K, skip=skip, q=q, map_estimate=map_estimate, lr=lr\n",
    "    )\n",
    "    perps_gamma, losses_gamma, _, _ = train_and_test(\n",
    "        K, gamma_50_25, skip, q=q, lr=lr,\n",
    "        n_iter_per_epoch=4000, map_estimate=map_estimate,\n",
    "        n_test_epoch=10)\n",
    "else:\n",
    "    gamma_50_25 = 'info/20171129_002902_nips' + \\\n",
    "                  '_50_25_gamma_lr_0.1'\n",
    "    perps_gamma, losses_gamma, _, _ = load_from_savedir(gamma_50_25, K)"
   ]
  },
  {
   "cell_type": "markdown",
   "metadata": {},
   "source": [
    "Meanwhile, a Lognormal approximation does not have the spike-and-slab shape desired in topic models, but the gradients are reparameterizable. That is, since a sample from the variational distribution can be reparameterized as a function from a standard normal distribution appropriately exponentiated, scaled, and shifted by the variational parameters, we can take stochastic gradients with respect to these parameters using the reparameterization trick (Kingma and Welling, 2014). This is a lower-variance estimation strategy."
   ]
  },
  {
   "cell_type": "code",
   "execution_count": 16,
   "metadata": {
    "collapsed": true
   },
   "outputs": [],
   "source": [
    "q = 'lognormal'"
   ]
  },
  {
   "cell_type": "code",
   "execution_count": 17,
   "metadata": {
    "collapsed": true
   },
   "outputs": [],
   "source": [
    "if rerun:\n",
    "    ln_50_25 = make_savedir(\n",
    "        K, skip=skip, q=q, map_estimate=map_estimate, lr=lr\n",
    "    )\n",
    "    perps_ln, losses_ln, _, _ = train_and_test(\n",
    "        K, ln_50_25, skip,\n",
    "        q=q, lr=lr, n_iter_per_epoch=4000,\n",
    "        map_estimate=map_estimate, n_test_epoch=10\n",
    "    )\n",
    "else:\n",
    "    ln_50_25 = 'info/20171129_004346_nips_50_25_lognormal_lr_0.1'\n",
    "    perps_ln, losses_ln, _, _ = load_from_savedir(ln_50_25, K)"
   ]
  },
  {
   "cell_type": "markdown",
   "metadata": {},
   "source": [
    "## Criticism"
   ]
  },
  {
   "cell_type": "markdown",
   "metadata": {},
   "source": [
    "We first observe the training log-likelihood."
   ]
  },
  {
   "cell_type": "code",
   "execution_count": 18,
   "metadata": {},
   "outputs": [
    {
     "data": {
      "text/plain": [
       "Text(0.5,1,'Training Loss')"
      ]
     },
     "execution_count": 18,
     "metadata": {},
     "output_type": "execute_result"
    },
    {
     "data": {
      "image/png": "[encoded data removed]",
      "text/plain": [
       "<matplotlib.figure.Figure at 0x1a2401d630>"
      ]
     },
     "metadata": {},
     "output_type": "display_data"
    }
   ],
   "source": [
    "plt.plot(range(len(losses_gamma)), losses_gamma, label=\"Gamma\")\n",
    "plt.plot(range(len(losses_ln)), losses_ln, label=\"Lognormal\")\n",
    "plt.legend()\n",
    "plt.ylabel(\"Train Loss\")\n",
    "plt.xlabel(\"Train Epoch\")\n",
    "plt.title(\"Training Loss\")"
   ]
  },
  {
   "cell_type": "markdown",
   "metadata": {},
   "source": [
    "Indeed, the Gamma approximation isn't even able to train to the data. This is likely due to high variance in the gradient estimates since Edward doesn't implement control variates. I tried adding control variates to Edward, but due to the way TensorFlow aggregates gradients across samples, my implementation added a lot of extra training time. To use control variates, one can set the cv=True flag in the train_and_test function. \n",
    "\n",
    "As expected, the test perplexity is also far worse."
   ]
  },
  {
   "cell_type": "code",
   "execution_count": 19,
   "metadata": {},
   "outputs": [
    {
     "name": "stdout",
     "output_type": "stream",
     "text": [
      "Gamma Test Perplexity:  237348.7\n",
      "Lognormal Test Perplexity:  1870.3\n"
     ]
    }
   ],
   "source": [
    "print(\"Gamma Test Perplexity: \", round(perps_gamma[-1], 1))\n",
    "print(\"Lognormal Test Perplexity: \", round(perps_ln[-1], 1))"
   ]
  },
  {
   "cell_type": "markdown",
   "metadata": {},
   "source": [
    "Thus, we stick to lognormal approximations. "
   ]
  },
  {
   "cell_type": "markdown",
   "metadata": {},
   "source": [
    "# Skip and Residual Connections"
   ]
  },
  {
   "cell_type": "markdown",
   "metadata": {},
   "source": [
    "## Model"
   ]
  },
  {
   "cell_type": "markdown",
   "metadata": {},
   "source": [
    "Most of the literature on DEFs looks at shallow models, since it becomes much more difficult to train on deeper models. One intuitive reason is vanishing gradients; specifically, imagine that the gradient for a layer vanishes and all the weight parameters are set to be very small; then\n",
    "\n",
    "$$E(z_{n, l,k} | \\boldsymbol z_{n, l+1}, \\boldsymbol w_{l, k}) = \\boldsymbol z_{n, l+1}^T \\boldsymbol w_{l, k} \\to 0.$$\n",
    "\n",
    "Thus, all future layers and the output would become zero due to one set of weights going to zero, limiting the depth of practical models. \n",
    "\n",
    "Rather than adjusting the inference scheme, we adjust the model to account for this. Inspired by deep residual networks (He et al., 2016), we note that if we model \n",
    "\n",
    "$$z_{n, l, k} | \\boldsymbol z_{n, l+1}, \\boldsymbol w_{l,k} \\sim \\text{Gamma}\\left(\\alpha_l, \\frac{\\alpha_l}{\\boldsymbol z_{n, l+1}^T\\boldsymbol w_{l,k} + \\boldsymbol z_{n, l+1}^T}\\right),$$\n",
    "\n",
    "if the weights go to zero, we have the nice property that $E(z_{n, l,k}|\\boldsymbol z_{n, l+1}, \\boldsymbol w_{l,k}) = \\boldsymbol z_{n, l+1}$. We'll refer to this as a **residual connection**.\n",
    "\n",
    "A similar idea is the **skip connection**: here, we add the output of two previous layers as opposed to the most recent one, adding another source of stability:\n",
    "$$z_{n, l, k} | \\boldsymbol z_{n, l+1}, \\boldsymbol z_{n, l+2}, \\boldsymbol w_{l,k} \\sim \\text{Gamma}\\left(\\alpha_l, \\frac{\\alpha_l}{\\boldsymbol z_{n,l+1}^T\\boldsymbol w_{l,k} + \\boldsymbol z_{n,l+2}^T}\\right).$$\n",
    "\n",
    "These connections are only defined for consecutive layers that have the same latent dimension. Thus, we begin with a deep model with 3 100-dimensional layers connected to 3 50-dimensional layers connected to 3 10-dimensional layers.   "
   ]
  },
  {
   "cell_type": "markdown",
   "metadata": {},
   "source": [
    "We begin with the same model as above, with no skips or connections. "
   ]
  },
  {
   "cell_type": "code",
   "execution_count": 20,
   "metadata": {
    "collapsed": true
   },
   "outputs": [],
   "source": [
    "K = [100, 100, 100, 50, 50, 50, 10, 10, 10]\n",
    "skip = False\n",
    "map_estimate = False\n",
    "q = 'lognormal'\n",
    "lr = 0.01"
   ]
  },
  {
   "cell_type": "code",
   "execution_count": 21,
   "metadata": {
    "collapsed": true
   },
   "outputs": [],
   "source": [
    "if rerun:\n",
    "    deepest_noskip = make_savedir(\n",
    "        K, skip=skip, q=q, map_estimate=map_estimate, lr=lr\n",
    "    )\n",
    "    perps_noskip, _, _, ws_noskip = train_and_test(\n",
    "        K, deepest_noskip, skip, q=q, lr=lr,\n",
    "        n_iter_per_epoch=40000, map_estimate=map_estimate,\n",
    "        n_test_epoch=100\n",
    "    )\n",
    "else:\n",
    "    deepest_noskip = 'info/20171129_195313_nips_100_100_' + \\\n",
    "        '100_50_50_50_10_10_10_lognormal_lr_0.01'\n",
    "    perps_noskip, _, _, ws_noskip = load_from_savedir(deepest_noskip, K)"
   ]
  },
  {
   "cell_type": "markdown",
   "metadata": {},
   "source": [
    "We now add skip connections to every third layer."
   ]
  },
  {
   "cell_type": "code",
   "execution_count": 22,
   "metadata": {
    "collapsed": true
   },
   "outputs": [],
   "source": [
    "skip = True"
   ]
  },
  {
   "cell_type": "code",
   "execution_count": 23,
   "metadata": {
    "collapsed": true
   },
   "outputs": [],
   "source": [
    "if rerun:\n",
    "    deepest_skip = make_savedir(\n",
    "        K, skip=skip, q=q, map_estimate=map_estimate, lr=lr\n",
    "    )\n",
    "    perps_skip, _, _, ws_skip = train_and_test(\n",
    "        K, deepest_skip, skip, q=q, lr=lr,\n",
    "        n_iter_per_epoch=40000, map_estimate=map_estimate,\n",
    "        n_test_epoch=100\n",
    "    )\n",
    "else:\n",
    "    deepest_skip = 'info/20171129_214016_nips_100_100_100_' + \\\n",
    "        '50_50_50_10_10_10_lognormal_lr_0.01_skip'\n",
    "    perps_skip, _, _, ws_skip = load_from_savedir(deepest_skip, K)"
   ]
  },
  {
   "cell_type": "markdown",
   "metadata": {},
   "source": [
    "We now add skip connections and residual connections whenever possible."
   ]
  },
  {
   "cell_type": "code",
   "execution_count": 24,
   "metadata": {
    "collapsed": true
   },
   "outputs": [],
   "source": [
    "residual = True"
   ]
  },
  {
   "cell_type": "code",
   "execution_count": 25,
   "metadata": {
    "collapsed": true
   },
   "outputs": [],
   "source": [
    "if rerun:\n",
    "    deepest_res = make_savedir(\n",
    "        K, skip=skip, q=q, map_estimate=map_estimate, lr=lr\n",
    "    )\n",
    "    perps_res, _, _, _ = train_and_test(\n",
    "        K, deepest_res, skip, q=q, lr=lr,\n",
    "        n_iter_per_epoch=40000, map_estimate=map_estimate,\n",
    "        n_test_epoch=100, most_skip=residual)\n",
    "else:\n",
    "    deepest_res = 'info/20171129_232428_nips_100_100_100_50_' + \\\n",
    "        '50_50_10_10_10_lognormal_lr_0.01_most_skip'\n",
    "    perps_res, _, _, _ = load_from_savedir(deepest_res, K)"
   ]
  },
  {
   "cell_type": "markdown",
   "metadata": {},
   "source": [
    "## Inference"
   ]
  },
  {
   "cell_type": "markdown",
   "metadata": {},
   "source": [
    "We continue to use variational Bayes with lognormal approximations."
   ]
  },
  {
   "cell_type": "markdown",
   "metadata": {},
   "source": [
    "## Criticism"
   ]
  },
  {
   "cell_type": "markdown",
   "metadata": {},
   "source": [
    "We begin evaluating by observing held out perplexity:"
   ]
  },
  {
   "cell_type": "code",
   "execution_count": 26,
   "metadata": {},
   "outputs": [
    {
     "data": {
      "text/plain": [
       "<matplotlib.legend.Legend at 0x1a2408b390>"
      ]
     },
     "execution_count": 26,
     "metadata": {},
     "output_type": "execute_result"
    },
    {
     "data": {
      "image/png": "[encoded data removed]",
      "text/plain": [
       "<matplotlib.figure.Figure at 0x1a24034eb8>"
      ]
     },
     "metadata": {},
     "output_type": "display_data"
    }
   ],
   "source": [
    "plt.plot(range(len(perps_noskip)), perps_noskip, label=\"Baseline\")\n",
    "plt.plot(range(len(perps_skip)), perps_skip, label=\"Skip\")\n",
    "plt.plot(range(len(perps_res)), perps_res, label=\"Skip and Residual\")\n",
    "plt.xlabel(\"Test Epoch\")\n",
    "plt.ylabel(\"Test Perplexity\")\n",
    "plt.title(\"Test Perplexity\")\n",
    "plt.legend()"
   ]
  },
  {
   "cell_type": "markdown",
   "metadata": {},
   "source": [
    "This is an interesting result: although all models will eventually converge to the same test perplexity, it takes the baseline model much longer. Note that each model is estimating the same parameters; the only difference is in the skip and residual connections. It's also worth noting that the skip and full model (skip and residual) are nearly identical."
   ]
  },
  {
   "cell_type": "markdown",
   "metadata": {},
   "source": [
    "What's going on? This trend can partially be explained by looking at the distribution of $\\boldsymbol W_{1}$. "
   ]
  },
  {
   "cell_type": "code",
   "execution_count": 27,
   "metadata": {},
   "outputs": [
    {
     "data": {
      "text/plain": [
       "<matplotlib.legend.Legend at 0x1a240aeda0>"
      ]
     },
     "execution_count": 27,
     "metadata": {},
     "output_type": "execute_result"
    },
    {
     "data": {
      "image/png": "[encoded data removed]",
      "text/plain": [
       "<matplotlib.figure.Figure at 0x1a24079ef0>"
      ]
     },
     "metadata": {},
     "output_type": "display_data"
    }
   ],
   "source": [
    "plt.hist(ws_noskip[1].flatten(), bins=40, label=\"Baseline\")\n",
    "plt.hist(ws_skip[1].flatten(), bins=40, label=\"Skip\")\n",
    "plt.title(\"Histogram of W1\")\n",
    "plt.legend()"
   ]
  },
  {
   "cell_type": "markdown",
   "metadata": {},
   "source": [
    "Both models learn very low weight values for $\\boldsymbol W_1$, on the scale of $10^{-9}$. The baseline model has\n",
    "\n",
    "$$p(z_{n, 1 ,k} | \\boldsymbol z_{n,2}, \\boldsymbol w_{1,k}) = \\text{Gamma}\\left(\\alpha_1, \\frac{\\alpha_1}{\\boldsymbol z_{n, 2}^T \\boldsymbol w_{1,k}}\\right),$$\n",
    "\n",
    "so low values of $\\boldsymbol w_{1, k}$ naturally provide less information and take longer to train. Meanwhile, skip connections enjoy the property that\n",
    "\n",
    "$$p(z_{n, 1 ,k} | \\boldsymbol z_{n,2}, \\boldsymbol w_{1,k}) = \\text{Gamma}\\left(\\alpha_1, \\frac{\\alpha_1}{\\boldsymbol z_{n, 2}^T \\boldsymbol w_{1,k} + \\boldsymbol z_{n, 3}}\\right),$$\n",
    "so that even if $\\boldsymbol w_{1, k}$ goes down to 0, the network will still recover a previous layer. "
   ]
  }
 ],
 "metadata": {
  "kernelspec": {
   "display_name": "Python 3",
   "language": "python",
   "name": "python3"
  },
  "language_info": {
   "codemirror_mode": {
    "name": "ipython",
    "version": 3
   },
   "file_extension": ".py",
   "mimetype": "text/x-python",
   "name": "python",
   "nbconvert_exporter": "python",
   "pygments_lexer": "ipython3",
   "version": "3.6.3"
  }
 },
 "nbformat": 4,
 "nbformat_minor": 2
}
